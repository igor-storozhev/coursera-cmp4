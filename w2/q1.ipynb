{
 "cells": [
  {
   "cell_type": "markdown",
   "metadata": {},
   "source": [
    "Уровень кальция в крови здоровых молодых женщин равен в среднем 9.5 милиграммам на децилитр и имеет характерное стандартное отклонение 0.4 мг/дл. В сельской больнице Гватемалы для 160 здоровых беременных женщин при первом обращении для ведения беременности был измерен уровень кальция; среднее значение составило 9.57 мг/дл. Можно ли утверждать, что средний уровень кальция в этой популяции отличается от 9.5?\n",
    "\n",
    "Посчитайте достигаемый уровень значимости. Поскольку известны только среднее и дисперсия, а не сама выборка, нельзя использовать стандартные функции критериев — нужно реализовать формулу достигаемого уровня значимости самостоятельно.\n",
    "\n",
    "Округлите ответ до четырёх знаков после десятичной точки."
   ]
  },
  {
   "cell_type": "markdown",
   "metadata": {},
   "source": [
    "* Выборка , X_n ~ N(9.57, 0.4), X_0 ~ N(9.5, 0.4)\n",
    "* H0: средний уровень кальция популяции не отличается от среднего mu = mu0\n",
    "* H1: mu != mu0"
   ]
  },
  {
   "cell_type": "markdown",
   "metadata": {},
   "source": [
    "Пример решения из лекции\n",
    "\n",
    "* Средний вес детей при рождении составляет 3300 г.\n",
    "В то же время, если мать ребёнка живёт за чертой бедности, то средний вес таких детей — 2800 г. Вес при\n",
    "рождении — это очень важный показатель здоровья ребенка. Так, только 7% детей рождаются с весом меньше\n",
    "2.5 кг, однако на них приходится 70% детских смертей.\n",
    "С целью увеличить вес тех детей, чьи матери живут за чертой бедности, разработана эксперименталь-\n",
    "ная программа ведения беременности. Чтобы проверить ее эффективность, проводится эксперимент. В нем\n",
    "принимают участие 25 женщин, живущих за чертой бедности. У всех них рождаются дети, и их средний вес\n",
    "составляет 3075 г.\n",
    "\n",
    "T=(3075-2800)/((3300-2800)/sqrt(25))=2.75,\n",
    "\n",
    "p=2(1-St(24 ст.св,2.75))=2(1-0.994426085089858)=0.01114782982028410\n",
    "\n",
    "* Считаешь z по формуле из лекций, потом получаешь плотность через stat..norm.cdf, далее выбираешь альтернативу и считаешь для нее p\n",
    "\n",
    "Добрый день! При проверке 4-го задания грейдер пишет \"Кажется, вы использовали t-критерий; но 0.4 — это не выборочное стандартное отклонение, а предполагаемое стандартное отклонение во всей популяции, так что правильнее взять z-критерий.\"\n",
    "\n",
    "Проблема в том, что при тогда ответ у меня получается 2.0\n",
    "\n",
    "Я использовала функцию scipy.stats.t.cdf для двусторонней альтернативы, а нужно, я так поняла - scipy.stats.norm.cdf. Укажите пожалуйста на мою ошибку\n",
    "\n",
    "Если кому будет полезно - нужно использовать просто stats.norm.cdf(z)."
   ]
  },
  {
   "cell_type": "markdown",
   "metadata": {},
   "source": [
    "import math\n",
    "def z_stat(x_1, x_2, sigma_1, sigma_2, n_1, n_2):\n",
    "    return (x_1 - x_2)/math.sqrt(((sigma_1**2)/n_1)+((sigma_2**2)/n_2))"
   ]
  },
  {
   "cell_type": "markdown",
   "metadata": {},
   "source": [
    "z = z_stat(9.57, 9.5, 0.4, 0.4, 160, 160)\n",
    "z"
   ]
  },
  {
   "cell_type": "code",
   "execution_count": 122,
   "metadata": {},
   "outputs": [
    {
     "data": {
      "text/plain": [
       "2.213594362117875"
      ]
     },
     "execution_count": 122,
     "metadata": {},
     "output_type": "execute_result"
    }
   ],
   "source": [
    "z = (9.57 - 9.5)/(0.4/math.sqrt(160))\n",
    "z"
   ]
  },
  {
   "cell_type": "code",
   "execution_count": 123,
   "metadata": {},
   "outputs": [
    {
     "data": {
      "text/plain": [
       "0.98657165224623811"
      ]
     },
     "execution_count": 123,
     "metadata": {},
     "output_type": "execute_result"
    }
   ],
   "source": [
    "from scipy.stats import norm\n",
    "#f_n = norm.cdf(abs(z))\n",
    "f_n = norm.cdf(z)\n",
    "f_n\n"
   ]
  },
  {
   "cell_type": "code",
   "execution_count": 124,
   "metadata": {},
   "outputs": [
    {
     "data": {
      "text/plain": [
       "0.026856695507523787"
      ]
     },
     "execution_count": 124,
     "metadata": {},
     "output_type": "execute_result"
    }
   ],
   "source": [
    "p = 2*(1 - f_n)\n",
    "p"
   ]
  },
  {
   "cell_type": "markdown",
   "metadata": {},
   "source": [
    "Имеются данные о стоимости и размерах 53940 бриллиантов:\n",
    "diamonds.txt\n",
    "\n",
    "Отделите 25% случайных наблюдений в тестовую выборку с помощью функции sklearn.cross_validation.train_test_split (зафиксируйте random state = 1). На обучающей выборке настройте две регрессионные модели:\n",
    "\n",
    "    * линейную регрессию с помощью LinearRegression без параметров\n",
    "    * случайный лес с помощью RandomForestRegressor с random_state=1.\n",
    "\n",
    "Какая из моделей лучше предсказывает цену бриллиантов? Сделайте предсказания на тестовой выборке, посчитайте модули отклонений предсказаний от истинных цен. Проверьте гипотезу об одинаковом среднем качестве предсказаний, вычислите достигаемый уровень значимости. Отвергается ли гипотеза об одинаковом качестве моделей против двусторонней альтернативы на уровне значимости α=0.05?\n",
    "\n",
    "* Отвергается, p<α\n",
    "\n",
    "* Не отвергается, p>α"
   ]
  },
  {
   "cell_type": "code",
   "execution_count": 6,
   "metadata": {},
   "outputs": [
    {
     "data": {
      "text/html": [
       "<div>\n",
       "<style scoped>\n",
       "    .dataframe tbody tr th:only-of-type {\n",
       "        vertical-align: middle;\n",
       "    }\n",
       "\n",
       "    .dataframe tbody tr th {\n",
       "        vertical-align: top;\n",
       "    }\n",
       "\n",
       "    .dataframe thead th {\n",
       "        text-align: right;\n",
       "    }\n",
       "</style>\n",
       "<table border=\"1\" class=\"dataframe\">\n",
       "  <thead>\n",
       "    <tr style=\"text-align: right;\">\n",
       "      <th></th>\n",
       "      <th>carat</th>\n",
       "      <th>depth</th>\n",
       "      <th>table</th>\n",
       "      <th>price</th>\n",
       "      <th>x</th>\n",
       "      <th>y</th>\n",
       "      <th>z</th>\n",
       "    </tr>\n",
       "  </thead>\n",
       "  <tbody>\n",
       "    <tr>\n",
       "      <th>0</th>\n",
       "      <td>0.23</td>\n",
       "      <td>61.5</td>\n",
       "      <td>55.0</td>\n",
       "      <td>326</td>\n",
       "      <td>3.95</td>\n",
       "      <td>3.98</td>\n",
       "      <td>2.43</td>\n",
       "    </tr>\n",
       "    <tr>\n",
       "      <th>1</th>\n",
       "      <td>0.21</td>\n",
       "      <td>59.8</td>\n",
       "      <td>61.0</td>\n",
       "      <td>326</td>\n",
       "      <td>3.89</td>\n",
       "      <td>3.84</td>\n",
       "      <td>2.31</td>\n",
       "    </tr>\n",
       "    <tr>\n",
       "      <th>2</th>\n",
       "      <td>0.23</td>\n",
       "      <td>56.9</td>\n",
       "      <td>65.0</td>\n",
       "      <td>327</td>\n",
       "      <td>4.05</td>\n",
       "      <td>4.07</td>\n",
       "      <td>2.31</td>\n",
       "    </tr>\n",
       "    <tr>\n",
       "      <th>3</th>\n",
       "      <td>0.29</td>\n",
       "      <td>62.4</td>\n",
       "      <td>58.0</td>\n",
       "      <td>334</td>\n",
       "      <td>4.20</td>\n",
       "      <td>4.23</td>\n",
       "      <td>2.63</td>\n",
       "    </tr>\n",
       "    <tr>\n",
       "      <th>4</th>\n",
       "      <td>0.31</td>\n",
       "      <td>63.3</td>\n",
       "      <td>58.0</td>\n",
       "      <td>335</td>\n",
       "      <td>4.34</td>\n",
       "      <td>4.35</td>\n",
       "      <td>2.75</td>\n",
       "    </tr>\n",
       "  </tbody>\n",
       "</table>\n",
       "</div>"
      ],
      "text/plain": [
       "   carat  depth  table  price     x     y     z\n",
       "0   0.23   61.5   55.0    326  3.95  3.98  2.43\n",
       "1   0.21   59.8   61.0    326  3.89  3.84  2.31\n",
       "2   0.23   56.9   65.0    327  4.05  4.07  2.31\n",
       "3   0.29   62.4   58.0    334  4.20  4.23  2.63\n",
       "4   0.31   63.3   58.0    335  4.34  4.35  2.75"
      ]
     },
     "execution_count": 6,
     "metadata": {},
     "output_type": "execute_result"
    }
   ],
   "source": [
    "import pandas as pd\n",
    "dm = pd.read_csv(\"diamonds.txt\", sep='\\t')\n",
    "dm.head()"
   ]
  },
  {
   "cell_type": "code",
   "execution_count": 7,
   "metadata": {},
   "outputs": [
    {
     "name": "stdout",
     "output_type": "stream",
     "text": [
      "<class 'pandas.core.frame.DataFrame'> <class 'pandas.core.frame.DataFrame'>\n"
     ]
    },
    {
     "name": "stderr",
     "output_type": "stream",
     "text": [
      "/home/sigor/anaconda2/lib/python2.7/site-packages/sklearn/cross_validation.py:41: DeprecationWarning: This module was deprecated in version 0.18 in favor of the model_selection module into which all the refactored classes and functions are moved. Also note that the interface of the new CV iterators are different from that of this module. This module will be removed in 0.20.\n",
      "  \"This module will be removed in 0.20.\", DeprecationWarning)\n"
     ]
    }
   ],
   "source": [
    "from sklearn.cross_validation import train_test_split\n",
    "dm_train, dm_test = train_test_split(dm, test_size=.25, random_state=1)\n",
    "print type(dm_train), type(dm_test)"
   ]
  },
  {
   "cell_type": "code",
   "execution_count": 8,
   "metadata": {},
   "outputs": [],
   "source": [
    "x_train = dm_train.drop(['price'], axis=1)\n",
    "y_train = dm_train['price']\n",
    "                       "
   ]
  },
  {
   "cell_type": "code",
   "execution_count": 9,
   "metadata": {},
   "outputs": [],
   "source": [
    "from sklearn.ensemble import RandomForestRegressor"
   ]
  },
  {
   "cell_type": "code",
   "execution_count": 37,
   "metadata": {},
   "outputs": [],
   "source": [
    "tree = RandomForestRegressor(random_state=1)"
   ]
  },
  {
   "cell_type": "code",
   "execution_count": 38,
   "metadata": {},
   "outputs": [
    {
     "data": {
      "text/plain": [
       "RandomForestRegressor(bootstrap=True, criterion='mse', max_depth=None,\n",
       "           max_features='auto', max_leaf_nodes=None,\n",
       "           min_impurity_decrease=0.0, min_impurity_split=None,\n",
       "           min_samples_leaf=1, min_samples_split=2,\n",
       "           min_weight_fraction_leaf=0.0, n_estimators=10, n_jobs=1,\n",
       "           oob_score=False, random_state=1, verbose=0, warm_start=False)"
      ]
     },
     "execution_count": 38,
     "metadata": {},
     "output_type": "execute_result"
    }
   ],
   "source": [
    "tree.fit(x_train, y_train)"
   ]
  },
  {
   "cell_type": "code",
   "execution_count": 39,
   "metadata": {},
   "outputs": [],
   "source": [
    "x_test = dm_test.drop(['price'], axis=1)\n",
    "y_test = dm_test['price']\n",
    "tree_pred = tree.predict(x_test)"
   ]
  },
  {
   "cell_type": "code",
   "execution_count": 40,
   "metadata": {},
   "outputs": [
    {
     "data": {
      "text/plain": [
       "array([  858.55,  7205.6 ,  2060.  , ...,  4711.  ,  3435.3 ,  1081.9 ])"
      ]
     },
     "execution_count": 40,
     "metadata": {},
     "output_type": "execute_result"
    }
   ],
   "source": [
    "tree_pred"
   ]
  },
  {
   "cell_type": "code",
   "execution_count": null,
   "metadata": {},
   "outputs": [],
   "source": []
  },
  {
   "cell_type": "code",
   "execution_count": 41,
   "metadata": {},
   "outputs": [
    {
     "data": {
      "text/plain": [
       "2714      294.55\n",
       "14653    1291.60\n",
       "52760     502.00\n",
       "48658      42.00\n",
       "14812    2375.50\n",
       "Name: price, dtype: float64"
      ]
     },
     "execution_count": 41,
     "metadata": {},
     "output_type": "execute_result"
    }
   ],
   "source": [
    "tree_sub = abs(y_test - tree_pred)\n",
    "tree_sub.head()"
   ]
  },
  {
   "cell_type": "code",
   "execution_count": 35,
   "metadata": {},
   "outputs": [],
   "source": [
    "from sklearn.linear_model import LinearRegression"
   ]
  },
  {
   "cell_type": "code",
   "execution_count": 42,
   "metadata": {},
   "outputs": [],
   "source": [
    "linear = LinearRegression()\n"
   ]
  },
  {
   "cell_type": "code",
   "execution_count": 43,
   "metadata": {},
   "outputs": [
    {
     "data": {
      "text/plain": [
       "LinearRegression(copy_X=True, fit_intercept=True, n_jobs=1, normalize=False)"
      ]
     },
     "execution_count": 43,
     "metadata": {},
     "output_type": "execute_result"
    }
   ],
   "source": [
    "linear.fit(x_train, y_train)"
   ]
  },
  {
   "cell_type": "code",
   "execution_count": 44,
   "metadata": {},
   "outputs": [],
   "source": [
    "linear_pred = linear.predict(x_test)"
   ]
  },
  {
   "cell_type": "code",
   "execution_count": 49,
   "metadata": {},
   "outputs": [
    {
     "data": {
      "text/plain": [
       "2714      214.422356\n",
       "14653    1016.460537\n",
       "52760      41.878717\n",
       "48658       7.165645\n",
       "14812    1113.152701\n",
       "Name: price, dtype: float64"
      ]
     },
     "execution_count": 49,
     "metadata": {},
     "output_type": "execute_result"
    }
   ],
   "source": [
    "linear_sub = abs(y_test - linear_pred)\n",
    "linear_sub.head()"
   ]
  },
  {
   "cell_type": "code",
   "execution_count": 50,
   "metadata": {},
   "outputs": [],
   "source": [
    "def mserror(y, y_pred):\n",
    "    return (sum((y - y_pred)**2)) / y.shape[0]\n"
   ]
  },
  {
   "cell_type": "code",
   "execution_count": 51,
   "metadata": {},
   "outputs": [
    {
     "data": {
      "text/plain": [
       "2140750.137628505"
      ]
     },
     "execution_count": 51,
     "metadata": {},
     "output_type": "execute_result"
    }
   ],
   "source": [
    "mserror(y_test, linear_pred)"
   ]
  },
  {
   "cell_type": "code",
   "execution_count": 52,
   "metadata": {},
   "outputs": [
    {
     "data": {
      "text/plain": [
       "1978751.272738431"
      ]
     },
     "execution_count": 52,
     "metadata": {},
     "output_type": "execute_result"
    }
   ],
   "source": [
    "mserror(y_test, tree_pred)"
   ]
  },
  {
   "cell_type": "code",
   "execution_count": 57,
   "metadata": {},
   "outputs": [
    {
     "data": {
      "text/plain": [
       "0.87202837881178941"
      ]
     },
     "execution_count": 57,
     "metadata": {},
     "output_type": "execute_result"
    }
   ],
   "source": [
    "tree_quality = tree.score(x_test, y_test)\n",
    "tree_quality"
   ]
  },
  {
   "cell_type": "code",
   "execution_count": 58,
   "metadata": {},
   "outputs": [
    {
     "data": {
      "text/plain": [
       "0.86155143931148481"
      ]
     },
     "execution_count": 58,
     "metadata": {},
     "output_type": "execute_result"
    }
   ],
   "source": [
    "linear_quality = linear.score(x_test, y_test)\n",
    "linear_quality"
   ]
  },
  {
   "cell_type": "markdown",
   "metadata": {},
   "source": [
    "Какая из моделей лучше предсказывает цену бриллиантов? Tree"
   ]
  },
  {
   "cell_type": "markdown",
   "metadata": {},
   "source": [
    "Сделайте предсказания на тестовой выборке, посчитайте модули отклонений предсказаний от истинных цен. Проверьте гипотезу об одинаковом среднем качестве предсказаний, вычислите достигаемый уровень значимости."
   ]
  },
  {
   "cell_type": "markdown",
   "metadata": {},
   "source": [
    "**H_0:** среднее качество linear равно среднему качеству tree, linear_quality == tree_quality\n",
    "\n",
    "**H_1:** linear_quality != tree_quality"
   ]
  },
  {
   "cell_type": "code",
   "execution_count": 129,
   "metadata": {},
   "outputs": [
    {
     "data": {
      "text/plain": [
       "Ttest_relResult(statistic=12.93081761494892, pvalue=5.0741755756509474e-38)"
      ]
     },
     "execution_count": 129,
     "metadata": {},
     "output_type": "execute_result"
    }
   ],
   "source": [
    "stats.ttest_rel(abs(y_test - linear.predict(x_test)), \n",
    "                abs(y_test - tree.predict(x_test)))"
   ]
  },
  {
   "cell_type": "code",
   "execution_count": 59,
   "metadata": {},
   "outputs": [
    {
     "name": "stdout",
     "output_type": "stream",
     "text": [
      "Populating the interactive namespace from numpy and matplotlib\n"
     ]
    }
   ],
   "source": [
    "%pylab inline"
   ]
  },
  {
   "cell_type": "code",
   "execution_count": 64,
   "metadata": {},
   "outputs": [
    {
     "data": {
      "text/plain": [
       "18804"
      ]
     },
     "execution_count": 64,
     "metadata": {},
     "output_type": "execute_result"
    }
   ],
   "source": [
    "max(y_test)"
   ]
  },
  {
   "cell_type": "code",
   "execution_count": 66,
   "metadata": {},
   "outputs": [
    {
     "data": {
      "text/plain": [
       "[<matplotlib.lines.Line2D at 0x7fad0c214e90>]"
      ]
     },
     "execution_count": 66,
     "metadata": {},
     "output_type": "execute_result"
    },
    {
     "data": {
      "image/png": "[encoded data removed]",
      "text/plain": [
       "<Figure size 432x288 with 1 Axes>"
      ]
     },
     "metadata": {
      "needs_background": "light"
     },
     "output_type": "display_data"
    }
   ],
   "source": [
    "pylab.scatter(y_test, linear_pred)\n",
    "pylab.plot(range(max(y_test)), c='black')"
   ]
  },
  {
   "cell_type": "code",
   "execution_count": 67,
   "metadata": {},
   "outputs": [
    {
     "data": {
      "text/plain": [
       "[<matplotlib.lines.Line2D at 0x7fad0bee4150>]"
      ]
     },
     "execution_count": 67,
     "metadata": {},
     "output_type": "execute_result"
    },
    {
     "data": {
      "image/png": "[encoded data removed]",
      "text/plain": [
       "<Figure size 432x288 with 1 Axes>"
      ]
     },
     "metadata": {
      "needs_background": "light"
     },
     "output_type": "display_data"
    }
   ],
   "source": [
    "pylab.scatter(y_test, tree_pred)\n",
    "pylab.plot(range(max(y_test)), c='black')"
   ]
  },
  {
   "cell_type": "code",
   "execution_count": 73,
   "metadata": {},
   "outputs": [
    {
     "data": {
      "text/plain": [
       "(array([ 319.,  317.,  283.,  325.,  307.,  302.,  336.,  279.,  269.,\n",
       "         254.,  276.,  257.,  272.,  264.,  246.,  239.,  263.,  234.,\n",
       "         257.,  228.,  191.,  193.,  195.,  190.,  171.,  173.,  168.,\n",
       "         173.,  139.,  138.,  170.,  158.,  133.,  123.,  124.,  113.,\n",
       "         120.,   91.,  114.,  111.,  115.,  109.,   79.,   92.,   87.,\n",
       "          83.,   83.,   94.,   90.,   71.,   84.,   80.,   71.,   63.,\n",
       "          72.,   71.,   70.,   56.,   67.,   47.,   59.,   59.,   43.,\n",
       "          47.,   51.,   58.,   64.,   51.,   48.,   39.,   40.,   47.,\n",
       "          63.,   45.,   44.,   34.,   49.,   33.,   40.,   48.,   32.,\n",
       "          38.,   33.,   29.,   39.,   32.,   43.,   24.,   37.,   34.,\n",
       "          39.,   29.,   35.,   27.,   25.,   35.,   32.,   23.,   29.,\n",
       "          24.,   35.,   32.,   21.,   20.,   17.,   32.,   24.,   26.,\n",
       "          31.,   25.,   18.,   19.,   28.,   26.,   14.,   25.,   13.,\n",
       "          15.,   17.,   24.,   16.,   22.,   23.,   28.,   13.,   19.,\n",
       "          12.,   17.,    8.,    9.,   14.,   16.,   15.,   18.,   18.,\n",
       "          12.,   13.,   11.,   18.,   10.,   11.,    8.,   13.,   22.,\n",
       "          13.,   13.,    9.,   18.,   16.,   11.,    7.,    9.,   13.,\n",
       "          10.,   12.,    8.,   10.,    9.,    8.,    8.,   12.,    7.,\n",
       "           7.,    7.,    8.,   10.,   10.,    6.,    7.,   12.,    9.,\n",
       "           7.,    6.,    8.,    4.,    5.,    4.,   11.,   11.,    7.,\n",
       "          10.,    7.,   10.,    9.,    7.,    6.,    8.,    4.,    7.,\n",
       "           7.,    2.,    8.,    8.,    8.,   10.,    3.,    8.,    8.,\n",
       "           4.,    2.,    5.,    7.,    5.,    5.,    4.,   10.,    2.,\n",
       "           5.,    5.,    4.,    6.,    1.,    4.,    6.,    7.,    6.,\n",
       "           4.,    3.,    2.,    3.,    4.,    4.,    4.,    4.,    5.,\n",
       "           7.,    3.,    0.,    4.,    5.,    4.,    5.,    6.,    2.,\n",
       "           6.,    0.,    2.,    4.,    4.,    5.,    5.,    9.,    2.,\n",
       "           6.,    2.,    2.,    1.,    1.,    3.,    2.,    3.,    3.,\n",
       "           4.,    2.,    4.,    6.,    1.,    1.,    3.,    3.,    3.,\n",
       "           6.,    5.,    3.,    1.,    6.,    1.,    3.,    2.,    2.,\n",
       "           3.,    1.,    3.,    3.,    2.,    3.,    1.,    2.,    2.,\n",
       "           2.,    1.,    0.,    3.,    0.,    1.,    6.,    3.,    5.,\n",
       "           1.,    2.,    3.,    1.,    1.,    0.,    3.,    1.,    0.,\n",
       "           1.,    0.,    4.,    1.,    2.,    5.,    5.,    0.,    3.,\n",
       "           2.,    0.,    3.,    2.,    2.,    1.,    2.,    1.,    1.,\n",
       "           0.,    2.,    2.,    0.,    0.,    2.,    2.,    1.,    1.,\n",
       "           1.,    3.,    2.,    3.,    3.,    0.,    0.,    1.,    0.,\n",
       "           1.,    0.,    3.,    2.,    2.,    4.,    0.,    1.,    1.,\n",
       "           1.,    0.,    2.,    1.,    0.,    3.,    2.,    0.,    3.,\n",
       "           0.,    3.,    1.,    0.,    1.,    0.,    2.,    1.,    1.,\n",
       "           0.,    1.,    2.,    1.,    1.,    2.,    4.,    0.,    0.,\n",
       "           0.,    0.,    1.,    1.,    0.,    1.,    1.,    1.,    0.,\n",
       "           1.,    2.,    0.,    3.,    0.,    1.,    0.,    2.,    0.,\n",
       "           0.,    0.,    1.,    0.,    0.,    0.,    0.,    0.,    0.,\n",
       "           1.,    0.,    0.,    1.,    1.,    0.,    4.,    2.,    3.,\n",
       "           0.,    1.,    0.,    1.,    0.,    1.,    0.,    0.,    0.,\n",
       "           0.,    2.,    0.,    0.,    0.,    0.,    1.,    3.,    0.,\n",
       "           1.,    0.,    0.,    0.,    0.,    1.,    0.,    1.,    0.,\n",
       "           0.,    0.,    0.,    0.,    1.,    0.,    0.,    0.,    0.,\n",
       "           0.,    0.,    1.,    0.,    0.,    2.,    0.,    0.,    0.,\n",
       "           0.,    0.,    0.,    0.,    0.,    0.,    1.,    0.,    1.,\n",
       "           0.,    1.,    0.,    0.,    0.,    0.,    0.,    0.,    0.,\n",
       "           0.,    0.,    0.,    0.,    0.,    0.,    1.,    0.,    0.,\n",
       "           0.,    0.,    0.,    0.,    1.,    0.,    0.,    1.,    0.,\n",
       "           0.,    1.,    0.,    0.,    0.,    0.,    0.,    0.,    1.,\n",
       "           0.,    0.,    0.,    0.,    0.,    0.,    1.,    0.,    0.,\n",
       "           0.,    0.,    0.,    0.,    0.,    0.,    0.,    0.,    0.,\n",
       "           0.,    0.,    0.,    0.,    0.,    0.,    0.,    0.,    0.,\n",
       "           0.,    0.,    0.,    0.,    0.,    0.,    0.,    0.,    0.,\n",
       "           0.,    0.,    0.,    0.,    0.,    1.,    0.,    0.,    0.,\n",
       "           0.,    0.,    0.,    0.,    0.,    0.,    0.,    0.,    0.,\n",
       "           0.,    0.,    1.,    0.,    1.,    0.,    0.,    0.,    0.,\n",
       "           0.,    0.,    0.,    0.,    0.,    0.,    1.,    0.,    1.,\n",
       "           0.,    0.,    0.,    1.,    0.,    0.,    0.,    0.,    0.,\n",
       "           0.,    0.,    1.,    0.,    0.,    0.,    0.,    0.,    0.,\n",
       "           0.,    0.,    0.,    0.,    0.,    0.,    0.,    0.,    0.,\n",
       "           0.,    0.,    0.,    0.,    0.,    0.,    0.,    1.,    0.,\n",
       "           0.,    0.,    0.,    0.,    0.,    0.,    0.,    0.,    0.,\n",
       "           0.,    0.,    0.,    0.,    0.,    0.,    0.,    0.,    0.,\n",
       "           0.,    0.,    0.,    0.,    0.,    0.,    0.,    0.,    0.,\n",
       "           0.,    0.,    0.,    0.,    0.,    0.,    0.,    0.,    0.,\n",
       "           0.,    0.,    0.,    0.,    1.,    0.,    0.,    0.,    0.,\n",
       "           0.,    0.,    0.,    0.,    0.,    0.,    0.,    0.,    0.,\n",
       "           0.,    0.,    0.,    0.,    0.,    0.,    0.,    0.,    0.,\n",
       "           0.,    0.,    0.,    0.,    0.,    0.,    0.,    0.,    0.,\n",
       "           0.,    0.,    0.,    0.,    0.,    0.,    0.,    1.,    0.,\n",
       "           0.,    0.,    0.,    0.,    0.,    0.,    0.,    0.,    0.,\n",
       "           0.,    0.,    0.,    0.,    0.,    0.,    0.,    0.,    0.,\n",
       "           0.,    0.,    0.,    0.,    1.,    0.,    0.,    0.,    0.,\n",
       "           0.,    0.,    0.,    0.,    0.,    0.,    0.,    0.,    0.,\n",
       "           0.,    0.,    0.,    0.,    0.,    0.,    0.,    0.,    0.,\n",
       "           0.,    0.,    0.,    0.,    0.,    0.,    0.,    0.,    0.,\n",
       "           0.,    0.,    0.,    0.,    0.,    0.,    0.,    0.,    0.,\n",
       "           0.,    0.,    0.,    0.,    0.,    0.,    0.,    0.,    0.,\n",
       "           0.,    0.,    0.,    0.,    0.,    0.,    0.,    0.,    0.,\n",
       "           0.,    0.,    0.,    0.,    0.,    0.,    0.,    0.,    0.,\n",
       "           0.,    0.,    0.,    0.,    0.,    0.,    0.,    0.,    0.,\n",
       "           0.,    0.,    0.,    0.,    0.,    0.,    0.,    0.,    0.,\n",
       "           0.,    0.,    0.,    0.,    0.,    0.,    0.,    0.,    0.,\n",
       "           0.,    0.,    0.,    0.,    0.,    0.,    0.,    0.,    0.,\n",
       "           0.,    0.,    0.,    0.,    0.,    0.,    0.,    0.,    0.,\n",
       "           0.,    0.,    0.,    1.,    0.,    0.,    0.,    0.,    0.,\n",
       "           0.,    0.,    0.,    0.,    0.,    0.,    0.,    0.,    0.,\n",
       "           0.,    0.,    0.,    0.,    0.,    0.,    0.,    0.,    0.,\n",
       "           0.,    0.,    0.,    0.,    0.,    0.,    0.,    0.,    0.,\n",
       "           0.,    0.,    0.,    0.,    0.,    0.,    0.,    0.,    0.,\n",
       "           0.,    0.,    0.,    0.,    0.,    0.,    0.,    0.,    0.,\n",
       "           0.,    0.,    0.,    0.,    0.,    0.,    0.,    0.,    0.,\n",
       "           0.,    0.,    0.,    0.,    0.,    0.,    0.,    0.,    0.,\n",
       "           0.,    0.,    0.,    0.,    0.,    0.,    0.,    0.,    0.,\n",
       "           0.,    0.,    0.,    0.,    0.,    0.,    0.,    0.,    0.,\n",
       "           0.,    0.,    0.,    0.,    0.,    0.,    0.,    0.,    0.,\n",
       "           0.,    0.,    0.,    0.,    0.,    0.,    0.,    0.,    0.,\n",
       "           0.,    0.,    0.,    0.,    0.,    0.,    0.,    0.,    0.,\n",
       "           0.,    0.,    0.,    0.,    0.,    0.,    0.,    0.,    0.,\n",
       "           0.,    0.,    0.,    0.,    0.,    0.,    0.,    0.,    0.,\n",
       "           0.,    0.,    0.,    0.,    0.,    0.,    0.,    0.,    0.,\n",
       "           0.,    0.,    0.,    0.,    0.,    0.,    0.,    0.,    0.,\n",
       "           0.,    0.,    0.,    0.,    0.,    0.,    0.,    0.,    0.,\n",
       "           0.,    0.,    0.,    0.,    0.,    0.,    0.,    0.,    0.,\n",
       "           0.,    0.,    0.,    0.,    0.,    0.,    0.,    0.,    0.,    1.]),\n",
       " array([  3.59148354e-02,   1.82757253e+01,   3.65155357e+01, ...,\n",
       "          1.82033667e+04,   1.82216065e+04,   1.82398464e+04]),\n",
       " <a list of 1000 Patch objects>)"
      ]
     },
     "execution_count": 73,
     "metadata": {},
     "output_type": "execute_result"
    },
    {
     "data": {
      "image/png": "[encoded data removed]",
      "text/plain": [
       "<Figure size 432x288 with 1 Axes>"
      ]
     },
     "metadata": {
      "needs_background": "light"
     },
     "output_type": "display_data"
    }
   ],
   "source": [
    "pylab.hist(linear_sub, bins=1000)"
   ]
  },
  {
   "cell_type": "code",
   "execution_count": 74,
   "metadata": {},
   "outputs": [
    {
     "data": {
      "text/plain": [
       "(array([ 384.,  377.,  401.,  382.,  327.,  328.,  317.,  324.,  337.,\n",
       "         302.,  273.,  272.,  282.,  269.,  225.,  232.,  223.,  206.,\n",
       "         185.,  176.,  205.,  165.,  139.,  157.,  136.,  147.,  140.,\n",
       "         123.,  111.,   98.,  114.,  105.,   86.,   81.,   97.,   70.,\n",
       "          99.,   67.,  104.,   87.,   68.,   70.,   65.,   65.,   72.,\n",
       "          70.,   64.,   61.,   55.,   59.,   70.,   61.,   51.,   51.,\n",
       "          60.,   42.,   63.,   42.,   46.,   46.,   52.,   49.,   51.,\n",
       "          45.,   46.,   52.,   45.,   36.,   43.,   37.,   33.,   48.,\n",
       "          40.,   39.,   42.,   45.,   30.,   30.,   34.,   36.,   26.,\n",
       "          35.,   30.,   36.,   32.,   23.,   31.,   30.,   26.,   26.,\n",
       "          25.,   30.,   28.,   18.,   32.,   26.,   34.,   24.,   23.,\n",
       "          27.,   27.,   15.,   29.,   26.,   30.,   20.,   25.,   24.,\n",
       "          25.,   22.,   27.,   13.,   18.,   12.,   18.,   21.,   24.,\n",
       "          21.,   18.,   21.,   17.,   17.,   20.,   17.,   27.,   10.,\n",
       "          23.,   21.,   21.,   14.,   20.,   21.,   15.,   20.,   13.,\n",
       "          19.,   18.,   17.,   14.,   23.,   14.,   13.,   17.,   25.,\n",
       "          21.,   17.,   10.,   14.,    7.,   18.,   14.,   15.,   14.,\n",
       "          19.,   16.,   18.,   12.,   13.,   17.,   10.,   12.,   23.,\n",
       "          20.,   10.,    7.,   16.,   10.,   12.,   10.,   13.,   15.,\n",
       "          13.,   16.,    8.,    7.,   16.,   19.,    5.,    8.,   22.,\n",
       "          14.,   13.,   13.,    7.,   20.,   11.,    8.,    9.,    6.,\n",
       "          14.,   13.,    8.,   13.,   17.,    9.,   12.,   13.,    7.,\n",
       "           7.,   11.,    9.,    4.,    7.,    9.,   13.,   15.,   10.,\n",
       "           6.,    4.,    5.,    9.,    7.,    5.,   11.,    6.,   11.,\n",
       "           8.,   18.,   12.,   11.,   10.,   11.,   11.,   13.,   10.,\n",
       "          10.,    5.,   10.,    4.,    5.,    9.,    6.,    8.,    7.,\n",
       "           6.,    6.,    7.,    6.,    7.,   11.,    6.,   10.,    6.,\n",
       "           8.,    7.,    5.,    6.,    6.,    5.,    6.,    4.,    7.,\n",
       "           7.,    6.,    7.,   14.,    3.,    3.,    5.,   10.,    7.,\n",
       "           4.,    5.,   11.,    3.,    4.,    4.,    7.,    5.,    7.,\n",
       "           5.,    5.,    6.,    5.,    8.,    2.,    7.,   11.,    4.,\n",
       "          10.,    6.,    4.,    8.,    2.,    4.,    4.,    4.,    4.,\n",
       "           6.,    5.,    4.,    3.,    9.,    2.,    5.,    4.,    5.,\n",
       "           6.,    3.,    4.,    3.,    4.,    2.,    2.,    5.,    8.,\n",
       "           4.,    6.,    1.,    4.,    2.,    2.,    4.,    5.,    4.,\n",
       "           8.,    7.,    4.,    4.,    3.,    3.,    3.,    4.,    2.,\n",
       "           5.,    6.,    4.,    3.,    5.,    1.,    5.,    5.,    3.,\n",
       "           3.,    5.,    6.,    3.,    4.,    4.,    3.,    5.,    3.,\n",
       "           5.,    4.,    1.,    0.,    1.,    2.,    4.,    1.,    3.,\n",
       "           7.,    2.,    2.,    2.,    5.,    2.,    3.,    0.,    2.,\n",
       "           1.,    3.,    2.,    5.,    2.,    0.,    2.,    3.,    1.,\n",
       "           2.,    4.,    2.,    2.,    4.,    4.,    4.,    0.,    5.,\n",
       "           4.,    1.,    2.,    1.,    0.,    1.,    1.,    3.,    0.,\n",
       "           2.,    5.,    4.,    4.,    1.,    2.,    3.,    2.,    1.,\n",
       "           0.,    0.,    1.,    1.,    3.,    0.,    3.,    5.,    0.,\n",
       "           1.,    0.,    3.,    1.,    2.,    2.,    1.,    5.,    1.,\n",
       "           3.,    0.,    1.,    3.,    2.,    3.,    4.,    3.,    0.,\n",
       "           1.,    0.,    0.,    0.,    3.,    4.,    3.,    0.,    0.,\n",
       "           1.,    0.,    0.,    0.,    2.,    0.,    0.,    1.,    1.,\n",
       "           2.,    1.,    0.,    0.,    1.,    1.,    0.,    1.,    1.,\n",
       "           0.,    3.,    1.,    1.,    1.,    0.,    0.,    2.,    0.,\n",
       "           1.,    0.,    2.,    0.,    0.,    3.,    0.,    0.,    1.,\n",
       "           0.,    1.,    4.,    1.,    1.,    0.,    1.,    0.,    1.,\n",
       "           1.,    2.,    0.,    1.,    1.,    1.,    1.,    0.,    0.,\n",
       "           1.,    2.,    1.,    2.,    1.,    1.,    1.,    0.,    1.,\n",
       "           0.,    1.,    3.,    0.,    1.,    0.,    1.,    0.,    1.,\n",
       "           0.,    2.,    0.,    0.,    1.,    2.,    0.,    0.,    1.,\n",
       "           1.,    0.,    0.,    1.,    0.,    0.,    0.,    0.,    0.,\n",
       "           0.,    3.,    1.,    1.,    1.,    0.,    0.,    0.,    0.,\n",
       "           0.,    0.,    0.,    1.,    0.,    0.,    0.,    0.,    0.,\n",
       "           0.,    0.,    2.,    0.,    0.,    1.,    0.,    0.,    0.,\n",
       "           1.,    0.,    0.,    0.,    0.,    0.,    0.,    0.,    1.,\n",
       "           0.,    0.,    0.,    2.,    0.,    0.,    1.,    0.,    0.,\n",
       "           1.,    1.,    0.,    0.,    1.,    1.,    0.,    0.,    1.,\n",
       "           1.,    1.,    0.,    1.,    0.,    0.,    0.,    1.,    0.,\n",
       "           1.,    0.,    1.,    0.,    1.,    1.,    0.,    0.,    0.,\n",
       "           0.,    0.,    0.,    1.,    0.,    0.,    0.,    0.,    0.,\n",
       "           0.,    0.,    0.,    0.,    0.,    0.,    0.,    0.,    0.,\n",
       "           0.,    0.,    0.,    0.,    0.,    0.,    0.,    0.,    0.,\n",
       "           0.,    0.,    0.,    0.,    0.,    0.,    0.,    0.,    0.,\n",
       "           1.,    0.,    1.,    0.,    1.,    0.,    0.,    0.,    0.,\n",
       "           0.,    0.,    0.,    0.,    0.,    0.,    0.,    0.,    0.,\n",
       "           0.,    0.,    0.,    1.,    0.,    1.,    0.,    0.,    0.,\n",
       "           1.,    0.,    0.,    0.,    0.,    0.,    0.,    0.,    0.,\n",
       "           0.,    0.,    0.,    1.,    0.,    0.,    0.,    0.,    0.,\n",
       "           0.,    0.,    3.,    0.,    0.,    0.,    0.,    1.,    0.,\n",
       "           1.,    0.,    0.,    0.,    0.,    0.,    0.,    0.,    0.,\n",
       "           0.,    0.,    0.,    0.,    1.,    0.,    0.,    0.,    0.,\n",
       "           0.,    1.,    0.,    0.,    0.,    0.,    0.,    0.,    1.,\n",
       "           0.,    0.,    1.,    0.,    0.,    0.,    0.,    0.,    0.,\n",
       "           0.,    0.,    0.,    0.,    0.,    0.,    0.,    1.,    0.,\n",
       "           0.,    0.,    0.,    0.,    0.,    0.,    0.,    0.,    0.,\n",
       "           0.,    0.,    0.,    0.,    0.,    0.,    0.,    0.,    0.,\n",
       "           1.,    0.,    0.,    0.,    0.,    0.,    0.,    0.,    0.,\n",
       "           0.,    0.,    0.,    0.,    0.,    0.,    0.,    0.,    0.,\n",
       "           0.,    0.,    0.,    0.,    0.,    0.,    0.,    0.,    0.,\n",
       "           0.,    0.,    0.,    1.,    0.,    0.,    0.,    0.,    0.,\n",
       "           0.,    0.,    0.,    0.,    0.,    0.,    0.,    0.,    0.,\n",
       "           0.,    0.,    0.,    0.,    0.,    0.,    0.,    0.,    0.,\n",
       "           0.,    0.,    0.,    0.,    0.,    0.,    0.,    0.,    0.,\n",
       "           0.,    0.,    0.,    0.,    0.,    0.,    0.,    0.,    0.,\n",
       "           0.,    0.,    0.,    0.,    0.,    0.,    0.,    0.,    0.,\n",
       "           0.,    0.,    0.,    0.,    0.,    0.,    0.,    0.,    1.,\n",
       "           0.,    0.,    0.,    0.,    0.,    0.,    0.,    0.,    0.,\n",
       "           0.,    0.,    0.,    0.,    0.,    0.,    1.,    0.,    0.,\n",
       "           0.,    0.,    0.,    0.,    0.,    0.,    1.,    0.,    0.,\n",
       "           0.,    0.,    0.,    0.,    0.,    0.,    0.,    0.,    0.,\n",
       "           0.,    0.,    0.,    0.,    0.,    0.,    0.,    0.,    0.,\n",
       "           0.,    0.,    0.,    0.,    0.,    1.,    0.,    0.,    0.,\n",
       "           0.,    0.,    0.,    0.,    0.,    0.,    0.,    0.,    0.,\n",
       "           0.,    0.,    0.,    0.,    0.,    0.,    0.,    0.,    0.,\n",
       "           0.,    0.,    0.,    0.,    0.,    0.,    0.,    0.,    0.,\n",
       "           0.,    0.,    0.,    0.,    0.,    0.,    0.,    0.,    0.,\n",
       "           0.,    0.,    0.,    0.,    0.,    0.,    0.,    0.,    0.,\n",
       "           0.,    0.,    0.,    0.,    0.,    0.,    0.,    0.,    0.,\n",
       "           0.,    0.,    0.,    0.,    0.,    0.,    0.,    0.,    0.,\n",
       "           0.,    0.,    0.,    0.,    0.,    0.,    0.,    0.,    0.,\n",
       "           1.,    0.,    0.,    0.,    0.,    0.,    0.,    0.,    0.,\n",
       "           0.,    0.,    0.,    0.,    0.,    0.,    0.,    0.,    0.,\n",
       "           0.,    0.,    0.,    0.,    0.,    0.,    0.,    0.,    0.,\n",
       "           0.,    0.,    0.,    0.,    0.,    0.,    0.,    0.,    0.,    1.]),\n",
       " array([     0.    ,     12.4436,     24.8872, ...,  12418.7128,\n",
       "         12431.1564,  12443.6   ]),\n",
       " <a list of 1000 Patch objects>)"
      ]
     },
     "execution_count": 74,
     "metadata": {},
     "output_type": "execute_result"
    },
    {
     "data": {
      "image/png": "[encoded data removed]",
      "text/plain": [
       "<Figure size 432x288 with 1 Axes>"
      ]
     },
     "metadata": {
      "needs_background": "light"
     },
     "output_type": "display_data"
    }
   ],
   "source": [
    "pylab.hist(tree_sub, bins=1000)"
   ]
  },
  {
   "cell_type": "code",
   "execution_count": 79,
   "metadata": {},
   "outputs": [
    {
     "data": {
      "text/plain": [
       "890.37640042856117"
      ]
     },
     "execution_count": 79,
     "metadata": {},
     "output_type": "execute_result"
    }
   ],
   "source": [
    "linear_quality_2 = sum(linear_sub)/len(linear_sub)\n",
    "linear_quality_2"
   ]
  },
  {
   "cell_type": "code",
   "execution_count": 81,
   "metadata": {},
   "outputs": [
    {
     "data": {
      "text/plain": [
       "803.61433830813019"
      ]
     },
     "execution_count": 81,
     "metadata": {},
     "output_type": "execute_result"
    }
   ],
   "source": [
    "tree_quality_2 = sum(tree_sub)/len(tree_sub)\n",
    "tree_quality_2"
   ]
  },
  {
   "cell_type": "code",
   "execution_count": 82,
   "metadata": {},
   "outputs": [],
   "source": [
    "import scipy"
   ]
  },
  {
   "cell_type": "code",
   "execution_count": 87,
   "metadata": {},
   "outputs": [
    {
     "name": "stderr",
     "output_type": "stream",
     "text": [
      "/home/sigor/anaconda2/lib/python2.7/site-packages/scipy/stats/morestats.py:1309: UserWarning: p-value may not be accurate for N > 5000.\n",
      "  warnings.warn(\"p-value may not be accurate for N > 5000.\")\n"
     ]
    },
    {
     "data": {
      "text/plain": [
       "(0.6747618913650513, 0.0)"
      ]
     },
     "execution_count": 87,
     "metadata": {},
     "output_type": "execute_result"
    },
    {
     "data": {
      "image/png": "[encoded data removed]",
      "text/plain": [
       "<Figure size 432x288 with 1 Axes>"
      ]
     },
     "metadata": {
      "needs_background": "light"
     },
     "output_type": "display_data"
    }
   ],
   "source": [
    "scipy.stats.probplot(linear_sub, dist=\"norm\", plot=pylab)\n",
    "scipy.stats.shapiro(linear_sub)"
   ]
  },
  {
   "cell_type": "code",
   "execution_count": 94,
   "metadata": {},
   "outputs": [
    {
     "data": {
      "text/plain": [
       "(0.6735021471977234, 0.0)"
      ]
     },
     "execution_count": 94,
     "metadata": {},
     "output_type": "execute_result"
    },
    {
     "data": {
      "image/png": "[encoded data removed]",
      "text/plain": [
       "<Figure size 432x288 with 1 Axes>"
      ]
     },
     "metadata": {
      "needs_background": "light"
     },
     "output_type": "display_data"
    }
   ],
   "source": [
    "scipy.stats.probplot(tree_sub, dist=\"norm\", plot=pylab)\n",
    "scipy.stats.shapiro(tree_sub)"
   ]
  },
  {
   "cell_type": "code",
   "execution_count": 90,
   "metadata": {},
   "outputs": [],
   "source": [
    "from statsmodels.stats.weightstats import *"
   ]
  },
  {
   "cell_type": "code",
   "execution_count": 126,
   "metadata": {},
   "outputs": [
    {
     "data": {
      "text/plain": [
       "803.61433830813019"
      ]
     },
     "execution_count": 126,
     "metadata": {},
     "output_type": "execute_result"
    }
   ],
   "source": [
    " DescrStatsW(tree_sub).mean"
   ]
  },
  {
   "cell_type": "code",
   "execution_count": 93,
   "metadata": {},
   "outputs": [],
   "source": [
    "cm = CompareMeans(DescrStatsW(linear_sub), DescrStatsW(tree_sub))"
   ]
  },
  {
   "cell_type": "code",
   "execution_count": 128,
   "metadata": {},
   "outputs": [
    {
     "data": {
      "text/plain": [
       "(59.124395353208293, 114.39972888765413)"
      ]
     },
     "execution_count": 128,
     "metadata": {},
     "output_type": "execute_result"
    }
   ],
   "source": [
    "cm.tconfint_diff(usevar=\"unequal\")"
   ]
  },
  {
   "cell_type": "code",
   "execution_count": 99,
   "metadata": {},
   "outputs": [
    {
     "data": {
      "text/plain": [
       "Ttest_indResult(statistic=6.1531297527437037, pvalue=7.7037355997308151e-10)"
      ]
     },
     "execution_count": 99,
     "metadata": {},
     "output_type": "execute_result"
    }
   ],
   "source": [
    "scipy.stats.ttest_ind(linear_sub, tree_sub, equal_var=False)"
   ]
  },
  {
   "cell_type": "code",
   "execution_count": 100,
   "metadata": {},
   "outputs": [
    {
     "data": {
      "text/plain": [
       "Ttest_indResult(statistic=6.1531297527437037, pvalue=7.7037322227084071e-10)"
      ]
     },
     "execution_count": 100,
     "metadata": {},
     "output_type": "execute_result"
    }
   ],
   "source": [
    "scipy.stats.ttest_ind(linear_sub, tree_sub)"
   ]
  },
  {
   "cell_type": "markdown",
   "metadata": {},
   "source": [
    " Отвергается ли гипотеза об одинаковом качестве моделей против двусторонней альтернативы на уровне значимости α=0.05?\n",
    "\n",
    "\n",
    "\n",
    "   Отвергается, p<α, pvalue=7.7037322227084071e-10 α=0.05\n",
    "\n",
    "   Не отвергается, p>α\n"
   ]
  },
  {
   "cell_type": "code",
   "execution_count": 105,
   "metadata": {},
   "outputs": [
    {
     "data": {
      "text/plain": [
       "Ttest_relResult(statistic=12.93081761494892, pvalue=5.0741755756509474e-38)"
      ]
     },
     "execution_count": 105,
     "metadata": {},
     "output_type": "execute_result"
    }
   ],
   "source": [
    "stats.ttest_rel(abs(y_test - linear.predict(x_test)), \n",
    "                abs(y_test - tree.predict(x_test)))"
   ]
  },
  {
   "cell_type": "code",
   "execution_count": 103,
   "metadata": {},
   "outputs": [
    {
     "data": {
      "text/plain": [
       "Ttest_relResult(statistic=12.93081761494892, pvalue=5.0741755756509474e-38)"
      ]
     },
     "execution_count": 103,
     "metadata": {},
     "output_type": "execute_result"
    }
   ],
   "source": [
    "stats.ttest_rel(abs(y_test - linear.predict(x_test)), \n",
    "                abs(y_test - tree.predict(x_test)))"
   ]
  },
  {
   "cell_type": "markdown",
   "metadata": {},
   "source": [
    "В предыдущей задаче посчитайте 95% доверительный интервал для разности средних абсолютных ошибок предсказаний регрессии и случайного леса. Чему равна его ближайшая к нулю граница? Округлите до десятков (поскольку случайный лес может давать немного разные предсказания в зависимости от версий библиотек, мы просим вас так сильно округлить, чтобы полученное значение наверняка совпало с нашим)."
   ]
  },
  {
   "cell_type": "code",
   "execution_count": 130,
   "metadata": {},
   "outputs": [
    {
     "data": {
      "text/plain": [
       "(59.125635811584587, 114.39848842927738)"
      ]
     },
     "execution_count": 130,
     "metadata": {},
     "output_type": "execute_result"
    }
   ],
   "source": [
    "zconfint(abs(y_test - linear.predict(x_test)), \n",
    "                abs(y_test - tree.predict(x_test)))"
   ]
  },
  {
   "cell_type": "code",
   "execution_count": 134,
   "metadata": {},
   "outputs": [
    {
     "data": {
      "text/plain": [
       "86.76206212043121"
      ]
     },
     "execution_count": 134,
     "metadata": {},
     "output_type": "execute_result"
    }
   ],
   "source": [
    "DescrStatsW(linear_sub).mean - DescrStatsW(tree_sub).mean"
   ]
  },
  {
   "cell_type": "code",
   "execution_count": null,
   "metadata": {},
   "outputs": [],
   "source": []
  }
 ],
 "metadata": {
  "kernelspec": {
   "display_name": "Python 2",
   "language": "python",
   "name": "python2"
  },
  "language_info": {
   "codemirror_mode": {
    "name": "ipython",
    "version": 2
   },
   "file_extension": ".py",
   "mimetype": "text/x-python",
   "name": "python",
   "nbconvert_exporter": "python",
   "pygments_lexer": "ipython2",
   "version": "2.7.15"
  }
 },
 "nbformat": 4,
 "nbformat_minor": 2
}
